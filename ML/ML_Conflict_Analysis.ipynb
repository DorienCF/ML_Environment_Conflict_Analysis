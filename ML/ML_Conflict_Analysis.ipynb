{
 "cells": [
  {
   "cell_type": "code",
   "execution_count": null,
   "metadata": {},
   "outputs": [],
   "source": [
    "print(\"Hello, lets change the world!\")"
   ]
  },
  {
   "cell_type": "code",
   "execution_count": 10,
   "metadata": {},
   "outputs": [
    {
     "output_type": "stream",
     "name": "stdout",
     "text": [
      "                           0                          1   \\\n0   Country A Civil Liberties  Country B Civil Liberties   \n1                           1                          5   \n2                           7                          1   \n3                         NaN                        NaN   \n4                           1                          2   \n5                           5                          7   \n6                           3                          6   \n7                           5                          4   \n8                           5                          1   \n9                           1                          6   \n10                          7                          7   \n11                          1                          1   \n\n                           2                          3   \\\n0   Country C Civil Liberties  Country D Civil Liberties   \n1                           6                          1   \n2                           2                          5   \n3                         NaN                        NaN   \n4                           6                          4   \n5                           1                          2   \n6                           7                        NaN   \n7                         NaN                        NaN   \n8                           2                          5   \n9                           6                          5   \n10                          5                          4   \n11                          1                          1   \n\n                           4                          5   \\\n0   Country E Civil Liberties  Country F Civil Liberties   \n1                           2                          4   \n2                           2                          2   \n3                         NaN                        NaN   \n4                           2                          5   \n5                           2                          1   \n6                         NaN                        NaN   \n7                         NaN                        NaN   \n8                           3                          1   \n9                           1                          3   \n10                          5                          5   \n11                          5                          3   \n\n                             6                            7   \\\n0   Country A Military Spending  Country B Military Spending   \n1                          3.61                          NaN   \n2                           NaN                         2.94   \n3                         15.44                         8.91   \n4                          5.28                         3.56   \n5                          5.34                         5.51   \n6                         27.89                        13.51   \n7                          3.15                         8.52   \n8                           3.4                         0.96   \n9                             0                          NaN   \n10                         6.87                         2.07   \n11                            0                         4.48   \n\n                             8                            9   \\\n0   Country C Military Spending  Country D Military Spending   \n1                          2.41                          2.3   \n2                          2.17                          3.6   \n3                          8.21                        22.49   \n4                         14.02                         3.47   \n5                          4.96                         3.76   \n6                         15.07                          NaN   \n7                           NaN                          NaN   \n8                          1.98                         1.97   \n9                           NaN                         3.02   \n10                         1.28                         1.46   \n11                         2.19                         0.69   \n\n                             10                            11              12  \\\n0   Country E Military Spending  Country F Military Spending   Country A GDP    \n1                          0.96                           3.3         13339.3   \n2                          1.41                          2.42             NaN   \n3                          8.43                          4.48            30.5   \n4                          3.34                           NaN          9001.2   \n5                         18.92                          4.49           185.1   \n6                           NaN                           NaN            54.6   \n7                           NaN                           NaN          1582.7   \n8                          0.57                          2.84             8.7   \n9                          6.45                           NaN            12.2   \n10                         2.97                         10.74             NaN   \n11                         1.65                          2.54            40.7   \n\n               13             14             15             16             17  \\\n0   Country B GDP  Country C GDP  Country D GDP  Country E GDP  Country F GDP   \n1            64.7          371.5         2286.4         5459.2          550.6   \n2         12746.3         2163.4          489.9         3171.3         2379.8   \n3              23            NaN            NaN            NaN            NaN   \n4          1642.7          293.9           87.4         1894.1           71.3   \n5            45.7         6496.3         1482.6           69.9         1231.3   \n6              28            NaN            NaN            NaN            NaN   \n7              12            NaN            NaN            NaN            NaN   \n8            13.9         1111.1          729.6          385.4          376.4   \n9           564.9            NaN            NaN        18273.2          50.06   \n10            NaN            2.3             92            6.9            NaN   \n11          15567         2550.5          599.6          227.7         1859.7   \n\n                              18  \n0   Conflict Confidence Ratting   \n1                           TRUE  \n2                           TRUE  \n3                           TRUE  \n4                           TRUE  \n5                           TRUE  \n6                           TRUE  \n7                           TRUE  \n8                          FALSE  \n9                          FALSE  \n10                         FALSE  \n11                         FALSE  \n"
     ]
    }
   ],
   "source": [
    "#This will be the data collection and organization \n",
    "import pandas \n",
    "\n",
    "df = pandas.read_csv(\"MLData.csv\", header=None)\n",
    "#headers = [\"Country A Civil Liberties\",\t\"Country B Civil Liberties\",\t\"Country C Civil Liberties\",\t\"Country D Civil Liberties\",\t\"Country E Civil Liberties\",\t\"Country F Civil Liberties\",\t\"Country A Military Spending\",\t\"Country B Military Spending\",\t\"Country C Military Spending\",\t\"Country D Military Spending\",\t\"Country E Military Spending\",\t\"Country F Military Spending\", \"Country A GDP\", \t\"Country B GDP\",\t\"Country C GDP\",\t\"Country D GDP\",\t\"Country E GDP\",\t\"Country F GDP\",\t\"Conflict Confidence Ratting\" ]\n",
    "print(df)\n",
    "\n"
   ]
  },
  {
   "cell_type": "code",
   "execution_count": null,
   "metadata": {},
   "outputs": [],
   "source": []
  }
 ],
 "metadata": {
  "kernelspec": {
   "name": "python3",
   "display_name": "Python 3.8.3 64-bit (conda)",
   "metadata": {
    "interpreter": {
     "hash": "8bb38626658e7eb9f5de5b1e387c1b6e3ba4321f6d948e7fd9cee471c843b1ca"
    }
   }
  }
 },
 "nbformat": 4,
 "nbformat_minor": 4
}