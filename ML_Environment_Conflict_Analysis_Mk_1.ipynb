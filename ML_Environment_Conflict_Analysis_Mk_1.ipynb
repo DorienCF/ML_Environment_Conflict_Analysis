{
  "nbformat": 4,
  "nbformat_minor": 0,
  "metadata": {
    "colab": {
      "name": "ML Environment Conflict Analysis  Mk.1.ipynb",
      "provenance": [],
      "authorship_tag": "ABX9TyP3vx2BcAUpsHBxOZHqF6mU",
      "include_colab_link": true
    },
    "kernelspec": {
      "name": "python3",
      "display_name": "Python 3"
    }
  },
  "cells": [
    {
      "cell_type": "markdown",
      "metadata": {
        "id": "view-in-github",
        "colab_type": "text"
      },
      "source": [
        "<a href=\"https://colab.research.google.com/github/DorienCF/ML_Environment_Conflict_Analysis/blob/master/ML_Environment_Conflict_Analysis_Mk_1.ipynb\" target=\"_parent\"><img src=\"https://colab.research.google.com/assets/colab-badge.svg\" alt=\"Open In Colab\"/></a>"
      ]
    },
    {
      "cell_type": "code",
      "metadata": {
        "colab": {
          "base_uri": "https://localhost:8080/"
        },
        "id": "rs1TCUZyWLHW",
        "outputId": "3ff28ac9-1ef6-4909-df48-ef4e22f09891"
      },
      "source": [
        "#%%\n",
        "from numpy.lib.index_tricks import fill_diagonal\n",
        "import pandas as pd\n",
        "import numpy as np\n",
        "import tensorflow as tf\n",
        "\n",
        "\n",
        "print(\"Hello, lets change the world!\\n\")\n",
        "df = pd.read_csv(\"MLDataTest.csv\")\n",
        "#print( \"The First data set is as follows:\\n\" + str(df))\n",
        "#print(\"__\\t__\\t__\\t__\\t__\\t__\\t__\\t__\\t__\\t__\\t__\\t\")\n",
        "## First I need to add the median value for ever 'NaN' Value \n",
        "\n",
        "        # Replaceing The 'NaN' values for Civil Liberties.\n",
        "mean1 = df['Country A Civil Liberties'].mean(); df['Country A Civil Liberties'] = df['Country A Civil Liberties'].fillna(mean1)\n",
        "mean2 = df['Country B Civil Liberties'].mean(); df['Country B Civil Liberties'] = df['Country B Civil Liberties'].fillna(mean2)\n",
        "mean3 = df['Country C Civil Liberties'].mean(); df['Country C Civil Liberties'] = df['Country C Civil Liberties'].fillna(mean3)\n",
        "mean4 = df['Country D Civil Liberties'].mean(); df['Country D Civil Liberties'] = df['Country D Civil Liberties'].fillna(mean4)\n",
        "mean5 = df['Country E Civil Liberties'].mean(); df['Country E Civil Liberties'] = df['Country E Civil Liberties'].fillna(mean5)\n",
        "mean6 = df['Country F Civil Liberties'].mean(); df['Country F Civil Liberties'] = df['Country F Civil Liberties'].fillna(mean6)\n",
        "        # Replacing the 'NaN' values for % Military Spending.\n",
        "mean7 = df['Country A Military Spending'].mean(); df['Country A Military Spending'] = df['Country A Military Spending'].fillna(mean7)\n",
        "mean8 = df['Country B Military Spending'].mean(); df['Country B Military Spending'] = df['Country B Military Spending'].fillna(mean8)\n",
        "mean9 = df['Country C Military Spending'].mean(); df['Country C Military Spending'] = df['Country C Military Spending'].fillna(mean9)\n",
        "mean10 = df['Country D Military Spending'].mean(); df['Country D Military Spending'] = df['Country D Military Spending'].fillna(mean10)\n",
        "mean11 = df['Country E Military Spending'].mean(); df['Country E Military Spending'] = df['Country E Military Spending'].fillna(mean11)\n",
        "mean12 = df['Country F Military Spending '].mean(); df['Country F Military Spending'] = df['Country F Military Spending '].fillna(mean12)\n",
        "        #Replacing the 'Nan' values for GDP 2010 constant dollars.\n",
        "mean13 = df['Country A GDP '].mean(); df['Country A GDP '] = df['Country A GDP '].fillna(mean13) \n",
        "mean15 = df['Country B GDP'].mean(); df['Country B GDP'] = df['Country B GDP'].fillna(mean15) # yes I notitced I skiped a number opps... :p\n",
        "mean16 = df['Country C GDP'].mean(); df['Country C GDP'] = df['Country C GDP'].fillna(mean16)\n",
        "mean17 = df['Country D GDP'].mean(); df['Country D GDP'] = df['Country D GDP'].fillna(mean17)\n",
        "mean18 = df['Country E GDP'].mean(); df['Country E GDP'] = df['Country E GDP'].fillna(mean18)\n",
        "mean19 = df['Country F GDP'].mean(); df['Country F GDP'] = df['Country F GDP'].fillna(mean19)\n",
        "#print(df)\n",
        "\n",
        "# Starting Tensor Flow stuff:\n",
        "\n",
        "target = df.pop('Conflict Confidence Ratting ')\n",
        "dataset = tf.data.Dataset.from_tensor_slices((df.values, target.values))\n",
        "\n",
        "for feature, targ in dataset.take(5):\n",
        "  print('Features: {}, Target:{}'.format(feature,targ))\n",
        "\n",
        "train_dataset = dataset.shuffle(len(df)).batch(1) # this will shuffle the data to avoid bias from the orientation of how the data was entered.\n",
        "  ## Creating and training a model(This will be a test...):\n",
        "\n",
        "def get_compiled_model():\n",
        "  model = tf.keras.Sequential([\n",
        "        tf.keras.layers.Dense(10, activation='relu'),\n",
        "        tf.keras.layers.Dense(10, activation='relu'),\n",
        "        tf.keras.layers.Dense(1)\n",
        "        ])\n",
        "  model.compile(optimizer='adam', loss = tf.keras.losses.BinaryCrossentropy(from_logits=True), metrics=['accuracy'])\n",
        "  return model\n",
        "model = get_compiled_model()\n",
        "model.fit(train_dataset, epochs=15)\n"
      ],
      "execution_count": 10,
      "outputs": [
        {
          "output_type": "stream",
          "text": [
            "Hello, lets change the world!\n",
            "\n",
            "Features: [1.00000000e+00 5.00000000e+00 6.00000000e+00 1.00000000e+00\n",
            " 2.00000000e+00 4.00000000e+00 3.61000000e+00 5.60666667e+00\n",
            " 2.41000000e+00 2.30000000e+00 9.60000000e-01 3.30000000e+00\n",
            " 1.33393000e+04 6.47000000e+01 3.71500000e+02 2.28640000e+03\n",
            " 5.45920000e+03 5.50600000e+02 3.30000000e+00], Target:True\n",
            "Features: [7.00000e+00 1.00000e+00 2.00000e+00 5.00000e+00 2.00000e+00 2.00000e+00\n",
            " 7.09800e+00 2.94000e+00 2.17000e+00 3.60000e+00 1.41000e+00 2.42000e+00\n",
            " 2.69500e+03 1.27463e+04 2.16340e+03 4.89900e+02 3.17130e+03 2.37980e+03\n",
            " 2.42000e+00], Target:True\n",
            "Features: [3.60000000e+00 4.00000000e+00 4.00000000e+00 3.37500000e+00\n",
            " 2.75000000e+00 3.00000000e+00 1.54400000e+01 8.91000000e+00\n",
            " 8.21000000e+00 2.24900000e+01 8.43000000e+00 4.48000000e+00\n",
            " 3.05000000e+01 2.30000000e+01 1.85557143e+03 8.23928571e+02\n",
            " 3.68596250e+03 9.31308571e+02 4.48000000e+00], Target:True\n",
            "Features: [1.00000000e+00 2.00000000e+00 6.00000000e+00 4.00000000e+00\n",
            " 2.00000000e+00 5.00000000e+00 5.28000000e+00 3.56000000e+00\n",
            " 1.40200000e+01 3.47000000e+00 3.34000000e+00            nan\n",
            " 9.00120000e+03 1.64270000e+03 2.93900000e+02 8.74000000e+01\n",
            " 1.89410000e+03 7.13000000e+01 4.40142857e+00], Target:True\n",
            "Features: [5.0000e+00 7.0000e+00 1.0000e+00 2.0000e+00 2.0000e+00 1.0000e+00\n",
            " 5.3400e+00 5.5100e+00 4.9600e+00 3.7600e+00 1.8920e+01 4.4900e+00\n",
            " 1.8510e+02 4.5700e+01 6.4963e+03 1.4826e+03 6.9900e+01 1.2313e+03\n",
            " 4.4900e+00], Target:True\n",
            "Epoch 1/15\n",
            "WARNING:tensorflow:Layer dense_6 is casting an input tensor from dtype float64 to the layer's dtype of float32, which is new behavior in TensorFlow 2.  The layer has dtype float32 because its dtype defaults to floatx.\n",
            "\n",
            "If you intended to run this layer in float32, you can safely ignore this warning. If in doubt, this warning is likely only an issue if you are porting a TensorFlow 1.X model to TensorFlow 2.\n",
            "\n",
            "To change all layers to have dtype float64 by default, call `tf.keras.backend.set_floatx('float64')`. To change just this layer, pass dtype='float64' to the layer constructor. If you are the author of this layer, you can disable autocasting by passing autocast=False to the base Layer constructor.\n",
            "\n",
            "11/11 [==============================] - 0s 2ms/step - loss: nan - accuracy: 0.5455   \n",
            "Epoch 2/15\n",
            "11/11 [==============================] - 0s 2ms/step - loss: nan - accuracy: 0.3636\n",
            "Epoch 3/15\n",
            "11/11 [==============================] - 0s 2ms/step - loss: nan - accuracy: 0.3636\n",
            "Epoch 4/15\n",
            "11/11 [==============================] - 0s 1ms/step - loss: nan - accuracy: 0.3636\n",
            "Epoch 5/15\n",
            "11/11 [==============================] - 0s 1ms/step - loss: nan - accuracy: 0.3636\n",
            "Epoch 6/15\n",
            "11/11 [==============================] - 0s 2ms/step - loss: nan - accuracy: 0.3636\n",
            "Epoch 7/15\n",
            "11/11 [==============================] - 0s 1ms/step - loss: nan - accuracy: 0.3636\n",
            "Epoch 8/15\n",
            "11/11 [==============================] - 0s 2ms/step - loss: nan - accuracy: 0.3636\n",
            "Epoch 9/15\n",
            "11/11 [==============================] - 0s 1ms/step - loss: nan - accuracy: 0.3636\n",
            "Epoch 10/15\n",
            "11/11 [==============================] - 0s 1ms/step - loss: nan - accuracy: 0.3636\n",
            "Epoch 11/15\n",
            "11/11 [==============================] - 0s 2ms/step - loss: nan - accuracy: 0.3636\n",
            "Epoch 12/15\n",
            "11/11 [==============================] - 0s 2ms/step - loss: nan - accuracy: 0.3636\n",
            "Epoch 13/15\n",
            "11/11 [==============================] - 0s 2ms/step - loss: nan - accuracy: 0.3636\n",
            "Epoch 14/15\n",
            "11/11 [==============================] - 0s 1ms/step - loss: nan - accuracy: 0.3636\n",
            "Epoch 15/15\n",
            "11/11 [==============================] - 0s 1ms/step - loss: nan - accuracy: 0.3636\n"
          ],
          "name": "stdout"
        },
        {
          "output_type": "execute_result",
          "data": {
            "text/plain": [
              "<tensorflow.python.keras.callbacks.History at 0x7f29224375f8>"
            ]
          },
          "metadata": {
            "tags": []
          },
          "execution_count": 10
        }
      ]
    }
  ]
}